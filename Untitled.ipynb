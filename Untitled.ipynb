{
 "cells": [
  {
   "cell_type": "code",
   "execution_count": 1,
   "id": "f3a328d0",
   "metadata": {},
   "outputs": [],
   "source": [
    "from notebook.auth import passwd"
   ]
  },
  {
   "cell_type": "code",
   "execution_count": 2,
   "id": "e2381237",
   "metadata": {},
   "outputs": [
    {
     "name": "stdout",
     "output_type": "stream",
     "text": [
      "Enter password: ········\n",
      "Verify password: ········\n"
     ]
    },
    {
     "data": {
      "text/plain": [
       "'argon2:$argon2id$v=19$m=10240,t=10,p=8$sDbhXx2xiz6sIMVqtO56Rw$MCBiEkNJPy+A1AeRiN516o7eNHgM1MI3fROSrTeJoP4'"
      ]
     },
     "execution_count": 2,
     "metadata": {},
     "output_type": "execute_result"
    }
   ],
   "source": [
    "passwd()"
   ]
  },
  {
   "cell_type": "code",
   "execution_count": null,
   "id": "4110a361",
   "metadata": {},
   "outputs": [],
   "source": []
  }
 ],
 "metadata": {
  "kernelspec": {
   "display_name": "Python 3 (ipykernel)",
   "language": "python",
   "name": "python3"
  },
  "language_info": {
   "codemirror_mode": {
    "name": "ipython",
    "version": 3
   },
   "file_extension": ".py",
   "mimetype": "text/x-python",
   "name": "python",
   "nbconvert_exporter": "python",
   "pygments_lexer": "ipython3",
   "version": "3.9.12"
  }
 },
 "nbformat": 4,
 "nbformat_minor": 5
}
