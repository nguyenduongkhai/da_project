{
 "cells": [
  {
   "cell_type": "markdown",
   "metadata": {},
   "source": [
    "# First Name:\n",
    "# Last Name:"
   ]
  },
  {
   "cell_type": "code",
   "execution_count": null,
   "metadata": {
    "collapsed": true
   },
   "outputs": [],
   "source": [
    "import pandas as pd\n",
    "import numpy as np\n",
    "import seaborn as sns\n",
    "import matplotlib.pyplot as plt"
   ]
  },
  {
   "cell_type": "code",
   "execution_count": null,
   "metadata": {
    "collapsed": true
   },
   "outputs": [],
   "source": [
    "nesarc = pd.read_csv('nesarc.csv', low_memory=False)\n",
    "pd.set_option('display.float_format', lambda x:'%f'%x)"
   ]
  },
  {
   "cell_type": "markdown",
   "metadata": {},
   "source": [
    "# From Prac 1\n",
    "# Columns/Data used in Prac 1"
   ]
  },
  {
   "cell_type": "code",
   "execution_count": null,
   "metadata": {
    "collapsed": true
   },
   "outputs": [],
   "source": [
    "nesarc['S2AQ5B'] = pd.to_numeric(nesarc['S2AQ5B'], errors='coerce') #convert variable to numeric\n",
    "nesarc['S2AQ5D'] = pd.to_numeric(nesarc['S2AQ5D'], errors='coerce') #convert variable to numeric\n",
    "nesarc['S2AQ5A'] = pd.to_numeric(nesarc['S2AQ5A'], errors='coerce') #convert variable to numeric\n",
    "nesarc['S2BQ1B1'] = pd.to_numeric(nesarc['S2BQ1B1'], errors='coerce') #convert variable to numeric\n",
    "nesarc['AGE'] = pd.to_numeric(nesarc['AGE'], errors='coerce') #convert variable to numeric"
   ]
  },
  {
   "cell_type": "markdown",
   "metadata": {},
   "source": [
    "# From Prac 2\n",
    "# A subset of nesarc data, with the following criteria\n",
    "# Age from 26 to 50\n",
    "# Beer drinking status - S2AQ5A = Y "
   ]
  },
  {
   "cell_type": "code",
   "execution_count": null,
   "metadata": {
    "collapsed": true
   },
   "outputs": [],
   "source": [
    "sub1=nesarc[(nesarc['AGE']>=26) & (nesarc['AGE']<=50) & (nesarc['S2AQ5A']==1)]\n",
    "sub2=sub1.copy()"
   ]
  },
  {
   "cell_type": "markdown",
   "metadata": {},
   "source": [
    "# From Prac 2\n",
    "# SETTING MISSING DATA"
   ]
  },
  {
   "cell_type": "code",
   "execution_count": null,
   "metadata": {
    "collapsed": true
   },
   "outputs": [],
   "source": [
    "sub2['S2AQ5D']=sub2['S2AQ5D'].replace(99, np.nan)\n",
    "\n",
    "sub2['S2AQ5B']=sub2['S2AQ5B'].replace(8, np.nan)\n",
    "sub2['S2AQ5B']=sub2['S2AQ5B'].replace(9, np.nan)\n",
    "sub2['S2AQ5B']=sub2['S2AQ5B'].replace(10, np.nan)\n",
    "sub2['S2AQ5B']=sub2['S2AQ5B'].replace(99, np.nan)\n",
    "\n",
    "sub2['S2BQ1B1']=sub2['S2BQ1B1'].replace(9, np.nan)"
   ]
  },
  {
   "cell_type": "markdown",
   "metadata": {},
   "source": [
    "# From Prac 2\n",
    "# Recode data"
   ]
  },
  {
   "cell_type": "code",
   "execution_count": null,
   "metadata": {
    "collapsed": true
   },
   "outputs": [],
   "source": [
    "recode2 = {1:30, 2:26, 3:14, 4:8, 5:4, 6:2.5, 7:1}\n",
    "sub2['BEER_FEQMO']= sub2['S2AQ5B'].map(recode2)\n",
    "\n",
    "recode3 = {2:0, 1:1}\n",
    "sub2['S2BQ1B1']= sub2['S2BQ1B1'].map(recode3)"
   ]
  },
  {
   "cell_type": "markdown",
   "metadata": {},
   "source": [
    "# Plot bar chart for S2BQ1B1"
   ]
  },
  {
   "cell_type": "markdown",
   "metadata": {},
   "source": [
    "# convert S2BQ1B1 to category data type"
   ]
  },
  {
   "cell_type": "code",
   "execution_count": null,
   "metadata": {
    "collapsed": true
   },
   "outputs": [],
   "source": [
    "sub2[\"S2BQ1B1\"] = "
   ]
  },
  {
   "cell_type": "markdown",
   "metadata": {},
   "source": [
    "# Plot bar chart for S2BQ1B1"
   ]
  },
  {
   "cell_type": "code",
   "execution_count": null,
   "metadata": {},
   "outputs": [],
   "source": [
    "%matplotlib notebook\n",
    "\n",
    "# bar chart code here\n",
    "\n",
    "plt.xlabel('Beer Dependence past 12 months')\n",
    "plt.title('Beer Dependence in the Past 12 Months Among Adult Drinkers'+ '\\n' + ' in the NESARC Study')"
   ]
  },
  {
   "cell_type": "markdown",
   "metadata": {},
   "source": [
    "# Visualizing Quantitative Variable - histogram"
   ]
  },
  {
   "cell_type": "markdown",
   "metadata": {},
   "source": [
    "# From Prac 2\n",
    "# Create a secondary variable to estimate the number of beer consumed per month\n",
    "# NUMBEERMO_EST"
   ]
  },
  {
   "cell_type": "code",
   "execution_count": null,
   "metadata": {
    "collapsed": true
   },
   "outputs": [],
   "source": [
    "# A secondary variable multiplying the number of beers comsumed and the approx number of beers consumed/day\n",
    "sub2['NUMBEERMO_EST']=sub2['BEER_FEQMO'] * sub2['S2AQ5D']"
   ]
  },
  {
   "cell_type": "markdown",
   "metadata": {},
   "source": [
    "# Visualise the number of beers consumed per month (NUMBEERMO_EST) using a histogram"
   ]
  },
  {
   "cell_type": "code",
   "execution_count": null,
   "metadata": {},
   "outputs": [],
   "source": [
    "%matplotlib notebook\n",
    "\n",
    "# Histogram plot code here\n",
    "\n",
    "\n",
    "plt.xlabel('Number of Beers per Month')\n",
    "plt.title('Estimated Number of Beers per Month' + '\\n' + 'among Adult Beer Drinker in the NESARC Study')"
   ]
  },
  {
   "cell_type": "markdown",
   "metadata": {},
   "source": [
    "# Calculate the spread and centre of  NUMBEERMO_EST\n",
    "# Use describe() "
   ]
  },
  {
   "cell_type": "code",
   "execution_count": null,
   "metadata": {},
   "outputs": [],
   "source": [
    "# standard deviation and other descriptive statistics for quantitative variables\n",
    "print('describe number of beers drinking per month')\n",
    "desc1 = \n",
    "print (desc1)"
   ]
  },
  {
   "cell_type": "markdown",
   "metadata": {},
   "source": [
    "# Alternative method\n",
    "# Calculate descriptive statistics of  NUMBEERMO_EST\n",
    "# Use mean(), std(), min(), max(), median(), mode()"
   ]
  },
  {
   "cell_type": "code",
   "execution_count": null,
   "metadata": {},
   "outputs": [],
   "source": [
    "print('mean')\n",
    "mean1 = \n",
    "print (mean1)\n",
    "\n",
    "print('std')\n",
    "std1 = \n",
    "print (std1)\n",
    "\n",
    "print('min')\n",
    "min1 = \n",
    "print (min1)\n",
    "\n",
    "print ('max')\n",
    "max1 = \n",
    "print (max1)\n",
    "\n",
    "print ('median')\n",
    "median1 = \n",
    "print (median1)\n",
    "\n",
    "print ('mode')\n",
    "mode1 = \n",
    "print (mode1)\n"
   ]
  },
  {
   "cell_type": "markdown",
   "metadata": {},
   "source": [
    "# Calculate descriptive statistics for categorical data \n",
    "# S2BQ1B1 - Beer Dependence\n",
    "# Use describe()"
   ]
  },
  {
   "cell_type": "code",
   "execution_count": null,
   "metadata": {},
   "outputs": [],
   "source": [
    "print ('describe beer dependence')\n",
    "desc2 = \n",
    "print (desc2)"
   ]
  },
  {
   "cell_type": "markdown",
   "metadata": {},
   "source": [
    "# What if categorical data was considered as quantitative data\n",
    "# S2BQ1B1 - Beer Dependence\n",
    "# Convert S2BQ1B1 to quantitative data and \n",
    "# Calculate descriptive statistics  \n",
    "# Use describe()"
   ]
  },
  {
   "cell_type": "code",
   "execution_count": null,
   "metadata": {
    "collapsed": true
   },
   "outputs": [],
   "source": [
    "sub2['S2BQ1B1'] = pd.to_numeric(sub2['S2BQ1B1']) # convert a numerical variable to quantitatie"
   ]
  },
  {
   "cell_type": "code",
   "execution_count": null,
   "metadata": {},
   "outputs": [],
   "source": [
    "print ('describe beer dependence')\n",
    "desc3 = \n",
    "print (desc3) #descriptor don't have sense"
   ]
  },
  {
   "cell_type": "markdown",
   "metadata": {},
   "source": [
    "# Visualising 2 variable\n",
    "# Categorical -> Quantitative - Bar chart"
   ]
  },
  {
   "cell_type": "markdown",
   "metadata": {},
   "source": [
    "# Create a secondary variable\n",
    "# CARTONPERMONTH - number of beer carton consumed  per month \n",
    "# assume that there is 24 beer cans in a carton "
   ]
  },
  {
   "cell_type": "code",
   "execution_count": null,
   "metadata": {
    "collapsed": true
   },
   "outputs": [],
   "source": [
    "sub2['CARTONPERMONTH'] = "
   ]
  },
  {
   "cell_type": "code",
   "execution_count": null,
   "metadata": {},
   "outputs": [],
   "source": [
    "c2= sub2.groupby('CARTONPERMONTH').size()\n",
    "print (c2)"
   ]
  },
  {
   "cell_type": "markdown",
   "metadata": {},
   "source": [
    "# Group CARTONPERMONTH into 5 groups\n",
    "# 1 - 5 cartons\n",
    "# 6 - 10 cartons\n",
    "# 10 - 15 cartons\n",
    "# 15 - 20 cartons\n",
    "# 20 - 25 cartons\n",
    "# 25 - 30 cartons\n",
    "# 30 - max cartons"
   ]
  },
  {
   "cell_type": "code",
   "execution_count": null,
   "metadata": {
    "collapsed": true
   },
   "outputs": [],
   "source": [
    "sub2['CARTONCATEGORY'] = "
   ]
  },
  {
   "cell_type": "code",
   "execution_count": null,
   "metadata": {
    "collapsed": true
   },
   "outputs": [],
   "source": [
    "# change format from numeric to categorical\n",
    "sub2['CARTONCATEGORY'] = sub2['CARTONCATEGORY'].astype('category')"
   ]
  },
  {
   "cell_type": "markdown",
   "metadata": {},
   "source": [
    "# Print describe of CARTONCATEGORY"
   ]
  },
  {
   "cell_type": "code",
   "execution_count": null,
   "metadata": {},
   "outputs": [],
   "source": [
    "print('describe CARTONCATEGORY')\n",
    "desc4 = \n",
    "print (desc4)"
   ]
  },
  {
   "cell_type": "markdown",
   "metadata": {},
   "source": [
    "#  Print carton category counts"
   ]
  },
  {
   "cell_type": "code",
   "execution_count": null,
   "metadata": {
    "collapsed": true
   },
   "outputs": [],
   "source": [
    "print('carton category counts')\n",
    "c7 = \n",
    "print(c7)"
   ]
  },
  {
   "cell_type": "markdown",
   "metadata": {},
   "source": [
    "# Chart of bar chart showing the relationship between carton of beer consumed per month (CARTONCATEGORY) and Beer Dependent (S2BQ1B1)"
   ]
  },
  {
   "cell_type": "code",
   "execution_count": null,
   "metadata": {},
   "outputs": [],
   "source": [
    "# bar chart code here\n",
    "\n",
    "plt.xlabel('Carton per Month')\n",
    "plt.ylabel('Proportion Beer Dependent')"
   ]
  },
  {
   "cell_type": "markdown",
   "metadata": {},
   "source": [
    "# Visualising 2 variable\n",
    "# Categorical -> Categorical - Bar chart"
   ]
  },
  {
   "cell_type": "markdown",
   "metadata": {},
   "source": [
    "# Rename race from 1-5 to \"White\", \"Black\", \"NatAm\", \"Asian\", \"Hispanic\""
   ]
  },
  {
   "cell_type": "code",
   "execution_count": null,
   "metadata": {
    "collapsed": true
   },
   "outputs": [],
   "source": [
    "# you can rename categorical variable values for graphing if original values are not informative \n",
    "# first change the variable format to categorical if you haven’t already done so\n",
    "sub2['ETHRACE2A'] = sub2['ETHRACE2A'].astype('category')\n",
    "# second create a new variable (PACKCAT) that has the new variable value labels\n",
    "sub2['ETHRACE2A']=sub2['ETHRACE2A'].cat.rename_categories([\"White\", \"Black\", \"NatAm\", \"Asian\", \"Hispanic\"])"
   ]
  },
  {
   "cell_type": "markdown",
   "metadata": {},
   "source": [
    "# Function to get 'CARTON_ADAY)"
   ]
  },
  {
   "cell_type": "code",
   "execution_count": null,
   "metadata": {},
   "outputs": [],
   "source": [
    "def CARTON_ADAY (row):\n",
    "   if row['BEER_FEQMO'] >= 30 :\n",
    "      return 1\n",
    "   elif row['BEER_FEQMO'] < 30 :\n",
    "      return 0\n",
    "      \n",
    "sub2['CARTON_ADAY'] = sub2.apply (lambda row: CARTON_ADAY (row),axis=1)\n",
    "      \n",
    "c4= sub2.groupby('CARTON_ADAY').size()\n",
    "print(c4)"
   ]
  },
  {
   "cell_type": "markdown",
   "metadata": {},
   "source": [
    "# Bar Graph showing the relationship between race (ETHRACE2A) and \n",
    "# CARTON_ADAY"
   ]
  },
  {
   "cell_type": "code",
   "execution_count": null,
   "metadata": {},
   "outputs": [],
   "source": [
    "# bar graph code here\n",
    "\n",
    "plt.xlabel('Ethnic Group')\n",
    "plt.ylabel('Proportion of drink beer a carton a day drinkers')"
   ]
  },
  {
   "cell_type": "markdown",
   "metadata": {},
   "source": [
    "# Visualising 2 variable\n",
    "# Categorical -> Quantitative - box plot"
   ]
  },
  {
   "cell_type": "markdown",
   "metadata": {},
   "source": [
    "# convert age to category data type\n",
    "# convert income (S1Q10A) to numeric data type"
   ]
  },
  {
   "cell_type": "code",
   "execution_count": null,
   "metadata": {
    "collapsed": true
   },
   "outputs": [],
   "source": [
    "sub2['AGE'] = sub2['AGE'].astype('category') \n",
    "sub2['S1Q10A'] = pd.to_numeric(sub2['S1Q10A'])"
   ]
  },
  {
   "cell_type": "markdown",
   "metadata": {},
   "source": [
    "# Box plot to show the relationship between age and income (S1Q10A) among adults aged 26 - 50 years old."
   ]
  },
  {
   "cell_type": "code",
   "execution_count": null,
   "metadata": {},
   "outputs": [],
   "source": [
    "%matplotlib notebook\n",
    "\n",
    "#box plot code here\n",
    "plt.xlabel('Age')\n",
    "plt.ylabel('Income')"
   ]
  },
  {
   "cell_type": "markdown",
   "metadata": {},
   "source": [
    "# Visualising 2 variable\n",
    "# Quantitative -> Quantitative - scatter plot"
   ]
  },
  {
   "cell_type": "markdown",
   "metadata": {},
   "source": [
    "# Read in gapminder.csv"
   ]
  },
  {
   "cell_type": "code",
   "execution_count": null,
   "metadata": {},
   "outputs": [],
   "source": [
    "pd.set_option('display.float_format', lambda x:'%.2f'%x)\n",
    "\n",
    "gapminder = pd.read_csv('gapminder.csv', low_memory=False)\n",
    "gapminder.head()"
   ]
  },
  {
   "cell_type": "markdown",
   "metadata": {},
   "source": [
    "# convert 'oilperperson' and 'relectricperperson' to numeric"
   ]
  },
  {
   "cell_type": "code",
   "execution_count": null,
   "metadata": {
    "collapsed": true
   },
   "outputs": [],
   "source": [
    "gapminder['oilperperson'] = \n",
    "gapminder['relectricperperson'] = "
   ]
  },
  {
   "cell_type": "markdown",
   "metadata": {},
   "source": [
    "# drop NAN data"
   ]
  },
  {
   "cell_type": "code",
   "execution_count": null,
   "metadata": {
    "collapsed": true
   },
   "outputs": [],
   "source": [
    "gapminder_clean=gapminder.dropna()"
   ]
  },
  {
   "cell_type": "markdown",
   "metadata": {},
   "source": [
    "# Scatter plot to show the relationship between Electrcity Use Per Person (relectricperperson) and Oil Use Per Person (oilperperson)"
   ]
  },
  {
   "cell_type": "code",
   "execution_count": null,
   "metadata": {},
   "outputs": [],
   "source": [
    "%matplotlib notebook\n",
    "plt.figure()\n",
    "\n",
    "#scatter plot code here\n",
    "\n",
    "plt.xlabel('Electrcity Use Per Person')\n",
    "plt.ylabel('Oil Use Per Person')\n",
    "plt.title('Scatterplot for the Association Between Electrcity Use Per Person' + '\\n' + 'and Oil Use Per Person')"
   ]
  }
 ],
 "metadata": {
  "kernelspec": {
   "display_name": "Python 3 (ipykernel)",
   "language": "python",
   "name": "python3"
  },
  "language_info": {
   "codemirror_mode": {
    "name": "ipython",
    "version": 3
   },
   "file_extension": ".py",
   "mimetype": "text/x-python",
   "name": "python",
   "nbconvert_exporter": "python",
   "pygments_lexer": "ipython3",
   "version": "3.9.12"
  }
 },
 "nbformat": 4,
 "nbformat_minor": 2
}
